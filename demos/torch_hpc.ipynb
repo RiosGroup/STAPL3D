{
 "cells": [
  {
   "cell_type": "code",
   "execution_count": null,
   "metadata": {},
   "outputs": [],
   "source": []
  },
  {
   "attachments": {},
   "cell_type": "markdown",
   "metadata": {},
   "source": [
    "go_FGS002_torch_train.sh"
   ]
  },
  {
   "cell_type": "code",
   "execution_count": null,
   "metadata": {},
   "outputs": [],
   "source": [
    "#!/usr/bin/env bash\n",
    "\n",
    "#SBATCH --job-name=go_FGS002_torch_train\n",
    "#SBATCH --partition=gpu\n",
    "#SBATCH --gpus-per-node=RTX6000:1\n",
    "#SBATCH --cpus-per-task=4\n",
    "#SBATCH --mem=10G\n",
    "#SBATCH --time=01:00:00\n",
    "#SBATCH --nodes=1\n",
    "#SBATCH --ntasks-per-node=1\n",
    "#SBATCH --array=1-1:1\n",
    "#SBATCH --output=/hpc/pmc_rios/mkleinnijenhuis/1.projects/FGS/FGS_RL1_Exp002/go_FGS002_torch_train.sh.o%A.%a\n",
    "#SBATCH --error=/hpc/pmc_rios/mkleinnijenhuis/1.projects/FGS/FGS_RL1_Exp002/go_FGS002_torch_train.sh.e%A.%a\n",
    "\n",
    "TASK_ID=${SLURM_ARRAY_TASK_ID}\n",
    "idx=$((TASK_ID - 1))\n",
    "\n",
    "\n",
    "source /hpc/local/CentOS7/pmc_rios/projects/STAPL3D/stapl3d/pipelines/functions.sh\n",
    "load_dataset /hpc/pmc_rios/mkleinnijenhuis/1.projects/FGS FGS_RL1_Exp002\n",
    "load_parameters FGS_RL1_Exp002 -v\n",
    "\n",
    "source /hpc/local/CentOS7/pmc_rios/anaconda3/etc/profile.d/conda.sh\n",
    "conda activate stapl3d_torch\n",
    "\n",
    "python /hpc/pmc_rios/mkleinnijenhuis/1.projects/FGS/FGS_RL1_Exp002/go_FGS002_torch_train.py blocks/{f}.h5 FGS_RL1_Exp002.yml ${idx}\n",
    "conda deactivate\n"
   ]
  },
  {
   "attachments": {},
   "cell_type": "markdown",
   "metadata": {},
   "source": [
    "go_FGS002_torch_train.py"
   ]
  },
  {
   "cell_type": "code",
   "execution_count": null,
   "metadata": {},
   "outputs": [],
   "source": [
    "#!/usr/bin/env python\n",
    "\n",
    "import sys\n",
    "image_in = sys.argv[1]\n",
    "parameter_file = sys.argv[2]\n",
    "if len(sys.argv) > 3:\n",
    "    idx = int(sys.argv[3])\n",
    "from stapl3d import stapl3d_torch\n",
    "#torch3r = stapl3d_torch.Torch3r(image_in, parameter_file)\n",
    "torch3r = stapl3d_torch.Torch3r(image_in, parameter_file, datadir='/hpc/pmc_rios/mkleinnijenhuis/1.projects/FGS/FGS_RL1_Exp002')\n",
    "torch3r.train()\n"
   ]
  }
 ],
 "metadata": {
  "language_info": {
   "name": "python"
  },
  "orig_nbformat": 4
 },
 "nbformat": 4,
 "nbformat_minor": 2
}
