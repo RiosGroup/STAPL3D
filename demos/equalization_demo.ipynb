{
 "cells": [
  {
   "cell_type": "markdown",
   "metadata": {},
   "source": [
    "# STAPL-3D equalization assay demo"
   ]
  },
  {
   "cell_type": "markdown",
   "metadata": {},
   "source": [
    "This notebook demonstrates the core components of the STAPL3D equalization assay analysis pipeline. \n",
    "\n",
    "If you did not follow the STAPL-3D README: please find STAPL-3D and the installation instructions [here](https://github.com/RiosGroup/STAPL3D) before doing this demo.\n"
   ]
  },
  {
   "cell_type": "markdown",
   "metadata": {},
   "source": [
    "Let's start with some general settings and imports."
   ]
  },
  {
   "cell_type": "code",
   "execution_count": null,
   "metadata": {},
   "outputs": [],
   "source": [
    "# Show all output\n",
    "from IPython.core.interactiveshell import InteractiveShell\n",
    "InteractiveShell.ast_node_interactivity = \"all\"\n",
    "\n",
    "# Imports.\n",
    "import os\n",
    "import yaml\n",
    "import zipfile\n",
    "import urllib.request\n",
    "\n",
    "from stapl3d import equalization\n"
   ]
  },
  {
   "cell_type": "markdown",
   "metadata": {},
   "source": [
    "First, define where you want the data to be downloaded by changing *projectdir*; default is the current demo directory.\n"
   ]
  },
  {
   "cell_type": "code",
   "execution_count": null,
   "metadata": {},
   "outputs": [],
   "source": [
    "projectdir = os.path.abspath('.')\n",
    "\n",
    "dataset = 'EqualizationAssay'\n",
    "datadir = os.path.join(projectdir, dataset)\n"
   ]
  },
  {
   "cell_type": "markdown",
   "metadata": {},
   "source": [
    "Download and extract the data."
   ]
  },
  {
   "cell_type": "code",
   "execution_count": null,
   "metadata": {},
   "outputs": [],
   "source": [
    "zipfilepath = os.path.join(projectdir, 'equalization.zip')\n",
    "\n",
    "if not os.path.exists(zipfilepath):\n",
    "    url = 'https://surfdrive.surf.nl/files/index.php/s/zgGc56IGc3atXMd/download'\n",
    "    urllib.request.urlretrieve(url, zipfilepath)\n",
    "\n",
    "if not os.path.exists(datadir):\n",
    "    with zipfile.ZipFile(zipfilepath, 'r') as zf:\n",
    "        zf.extractall()\n"
   ]
  },
  {
   "cell_type": "markdown",
   "metadata": {},
   "source": [
    " The name of the extracted dataset is *EqualizationAssay*. Jump to it."
   ]
  },
  {
   "cell_type": "code",
   "execution_count": null,
   "metadata": {},
   "outputs": [],
   "source": [
    "os.chdir(datadir)\n",
    "f'working in directory: {os.path.abspath(\".\")}'\n"
   ]
  },
  {
   "cell_type": "markdown",
   "metadata": {},
   "source": [
    "## Set up the analysis"
   ]
  },
  {
   "cell_type": "markdown",
   "metadata": {},
   "source": [
    "In the recommended setup, the files are organized in a directory tree with \n",
    "- *species* as the first level\n",
    "- *antibody* as the second level\n",
    "- *repetitions* are saved as individual czi files.\n",
    "\n",
    "*\\<datadir\\>/\\<species\\>/\\<antibody\\>/\\<repetition\\>.\\<ext\\>*\n",
    "\n",
    "Primaries are included as a separate *species*.\n",
    "\n",
    "*\\<datadir\\>/primaries/\\<antibody\\>/\\<repetition\\>.\\<ext\\>*\n",
    "\n",
    "In the analysis, the directory tree is used to group files and the directory names will be used in outputs and plots.\n"
   ]
  },
  {
   "cell_type": "markdown",
   "metadata": {},
   "source": [
    "Let's list an example for each level for the downloaded data.\n"
   ]
  },
  {
   "cell_type": "code",
   "execution_count": null,
   "metadata": {},
   "outputs": [],
   "source": [
    "ldir = datadir\n",
    "for l in ['First', 'Second', 'Reps']:\n",
    "    l1 = os.listdir(ldir)\n",
    "    f'{l} level {ldir}:'\n",
    "    l1\n",
    "    ldir = os.path.join(ldir, l1[0])\n"
   ]
  },
  {
   "cell_type": "markdown",
   "metadata": {},
   "source": [
    "We will prepare the equalization analysis by initializing an `equaliz3r` object by pointing it to the directory we wish to analyse."
   ]
  },
  {
   "cell_type": "code",
   "execution_count": null,
   "metadata": {},
   "outputs": [],
   "source": [
    "equaliz3r = equalization.Equaliz3r(datadir)\n"
   ]
  },
  {
   "cell_type": "code",
   "execution_count": null,
   "metadata": {},
   "outputs": [],
   "source": []
  },
  {
   "cell_type": "markdown",
   "metadata": {},
   "source": [
    "#### File selection"
   ]
  },
  {
   "cell_type": "markdown",
   "metadata": {},
   "source": [
    "By default, the STAPL-3D equalization assay analysis pipeline will expect a particular directory structure within the data directory specified: ```<datadir>/<species>/<antibody>/<repitition>.<ext>```\n",
    "\n",
    "It will search for files in `datadir` according to this structure. It can be adapted by setting:\n",
    "- `equaliz3r.filepat` \n",
    "- `equaliz3r.use_dirtree` \n",
    "\n",
    "followed by a call to \n",
    "`equaliz3r.set_filepaths()`\n"
   ]
  },
  {
   "cell_type": "code",
   "execution_count": null,
   "metadata": {},
   "outputs": [],
   "source": [
    "# select all files (default)\n",
    "equaliz3r.filepat = '*.*'\n",
    "equaliz3r.set_filepaths()\n",
    "equaliz3r.filepaths\n"
   ]
  },
  {
   "cell_type": "code",
   "execution_count": null,
   "metadata": {},
   "outputs": [],
   "source": [
    "# search for czi-files in `datadir` rather than a directory tree\n",
    "equaliz3r.use_dirtree = False\n",
    "equaliz3r.filepat = '*.czi'\n",
    "equaliz3r.set_filepaths()\n",
    "equaliz3r.filepaths\n"
   ]
  },
  {
   "cell_type": "markdown",
   "metadata": {},
   "source": [
    "NOTE: if all files all provided in a single directory the layout of primaries and secondaries can be provided in the yml parameterfile or has to be handled in postprocessing\n",
    "\n",
    "```\n",
    "equalization:\n",
    "    primaries:\n",
    "        <antibody1>: <filestem1>\n",
    "        <antibody2>: <filestem2>\n",
    "        ...\n",
    "    secondaries:\n",
    "       < species1>:\n",
    "            <antibody1>: <filestem1>\n",
    "            <antibody2>: <filestem2>\n",
    "            ...\n",
    "       ...\n",
    "```\n"
   ]
  },
  {
   "cell_type": "code",
   "execution_count": null,
   "metadata": {},
   "outputs": [],
   "source": [
    "# select all czi-files starting with 'MAP2_ck488' in the directory tree\n",
    "equaliz3r.use_dirtree = True\n",
    "equaliz3r.filepat = 'MAP2_ck488*.czi'\n",
    "equaliz3r.set_filepaths()\n",
    "equaliz3r.filepaths\n"
   ]
  },
  {
   "cell_type": "code",
   "execution_count": null,
   "metadata": {},
   "outputs": [],
   "source": []
  },
  {
   "cell_type": "markdown",
   "metadata": {},
   "source": [
    "## Basic run and report"
   ]
  },
  {
   "cell_type": "markdown",
   "metadata": {},
   "source": [
    "Let' run the analysis on this small subset first."
   ]
  },
  {
   "cell_type": "code",
   "execution_count": null,
   "metadata": {},
   "outputs": [],
   "source": [
    "equaliz3r.run()\n"
   ]
  },
  {
   "cell_type": "markdown",
   "metadata": {},
   "source": [
    "It performs the following steps:\n",
    "+ Smooth the input image\n",
    "\n",
    "`equaliz3r.smooth()`\n",
    "+ Separate in noise regions, background tissue regions, and foreground tissue regions\n",
    "\n",
    "`equaliz3r.segment()`\n",
    "+ Calculate summary measures for foreground and background, print report for each file\n",
    "\n",
    "`equaliz3r.metrics()`\n",
    "+ Gather files of individual repeats and generate a summary report\n",
    "\n",
    "`equaliz3r.postprocess()`\n"
   ]
  },
  {
   "cell_type": "markdown",
   "metadata": {},
   "source": [
    "An hdf5-file is created with smoothed images and segmentations in the same directory as the raw datafile.\n",
    "A *equalization* subdirectory is created that will contain reports, parameter files and the results-csv."
   ]
  },
  {
   "cell_type": "markdown",
   "metadata": {},
   "source": [
    "Now look at the pdf report that is generated for one of the files."
   ]
  },
  {
   "cell_type": "code",
   "execution_count": null,
   "metadata": {},
   "outputs": [],
   "source": [
    "im_idx = 1\n",
    "filepath = equaliz3r.filepaths[im_idx]\n",
    "\n",
    "filestem, inputs, outputs = equaliz3r._get_filepaths_inout(filepath)\n",
    "equaliz3r.report(\n",
    "    outputpath=None,\n",
    "    ioff=False,\n",
    "    name=filestem,\n",
    "    filestem=filestem,\n",
    "    inputs=inputs,\n",
    "    outputs=outputs,\n",
    ")\n"
   ]
  },
  {
   "cell_type": "markdown",
   "metadata": {},
   "source": [
    "On the top row, the report shows the raw image with the histogram. \n",
    "\n",
    "The second row displays the smoothed image with tissue (blue) and noise (red) region thresholds. These thresholds are superimposed on the histogram of the smoothed image on the right. As a default, these thresholds are derived by multiplying the image's *otsu* threshold (green) by with tunable factors `equaliz3r.otsu_factor_noise = 0.1` and `equaliz3r.otsu_factor_tissue = 1.1`.\n",
    "\n",
    "The third row shows the segmentation of the noise (green), foreground (cyan) and background (magenta) regions with the histogram of the tissue region.\n",
    "\n",
    "Metrics for this image are printed next to the histogram:\n",
    "  - foreground: median value of the foreground tissue (cyan)\n",
    "  - background: median value of the background tissue (magenta)\n",
    "  - contrast: `C = background / foreground`\n",
    "  - contrast-to-noise: `CNR = (foreground - background) / SD(noise)`\n"
   ]
  },
  {
   "cell_type": "markdown",
   "metadata": {},
   "source": [
    "These values are tabulated in a pandas dataframe.\n"
   ]
  },
  {
   "cell_type": "code",
   "execution_count": null,
   "metadata": {},
   "outputs": [],
   "source": [
    "equaliz3r.df"
   ]
  },
  {
   "cell_type": "markdown",
   "metadata": {},
   "source": [
    "The *antibody* and *species* column are derived from the directory tree; as are the *primaries* and *secondaries* boolean indicators."
   ]
  },
  {
   "cell_type": "markdown",
   "metadata": {},
   "source": [
    "This dataframe is also written to a csv-file in the *equalization* subdirectory for further processing."
   ]
  },
  {
   "cell_type": "code",
   "execution_count": null,
   "metadata": {},
   "outputs": [],
   "source": []
  },
  {
   "cell_type": "markdown",
   "metadata": {},
   "source": [
    "## Picking parameters for each step"
   ]
  },
  {
   "cell_type": "markdown",
   "metadata": {},
   "source": [
    "We will now go through the analysis for all files step by step with a closer look at the parameters that can be adapted. First, create a new `equaliz3r` object. We set the verbosity to 0 to reduce output clutter. Only czi-files are selected, because h5-files were created in the previous steps. "
   ]
  },
  {
   "cell_type": "code",
   "execution_count": null,
   "metadata": {},
   "outputs": [],
   "source": [
    "equaliz3r = equalization.Equaliz3r(datadir, verbosity=0)\n",
    "equaliz3r.filepat = '*.czi'\n",
    "#equaliz3r.filepat = 'MAP2_ck488*.czi'\n",
    "equaliz3r.set_filepaths()\n",
    "\n",
    "# Pick image for visualization.\n",
    "im_idx = 1\n",
    "filepath = equaliz3r.filepaths[im_idx]\n"
   ]
  },
  {
   "cell_type": "markdown",
   "metadata": {},
   "source": [
    "### Smooth\n",
    "The first step in the analysis is smoothing of the images to be able to detect the tissue boundaries. This generates a hdf5-file next to each original file with a smoothed image.\n"
   ]
  },
  {
   "cell_type": "code",
   "execution_count": null,
   "metadata": {},
   "outputs": [],
   "source": [
    "equaliz3r.smooth()\n"
   ]
  },
  {
   "cell_type": "markdown",
   "metadata": {},
   "source": [
    "We can visualize the images in napari."
   ]
  },
  {
   "cell_type": "code",
   "execution_count": null,
   "metadata": {},
   "outputs": [],
   "source": [
    "images = ['data', 'smooth']\n",
    "labels = None\n",
    "\n",
    "equaliz3r.view(filepath, images, labels)\n"
   ]
  },
  {
   "cell_type": "markdown",
   "metadata": {},
   "source": [
    "##### smoothing kernel size\n",
    "If the image is smoothed too much or too little to obtain a good tissue vs noise region segmentation, the `sigma` parameter can be adapted."
   ]
  },
  {
   "cell_type": "code",
   "execution_count": null,
   "metadata": {},
   "outputs": [],
   "source": [
    "equaliz3r.sigma = 20\n",
    "\n",
    "# save in new dataset\n",
    "equaliz3r.outputpaths['smooth']['smooth'] = equaliz3r.outputpaths['smooth']['smooth'].replace('/smooth', '/smooth20')\n",
    "\n",
    "equaliz3r.smooth()\n",
    "\n",
    "images = ['data', 'smooth', 'smooth20']\n",
    "equaliz3r.view(filepath, images, labels)\n"
   ]
  },
  {
   "cell_type": "code",
   "execution_count": null,
   "metadata": {},
   "outputs": [],
   "source": []
  },
  {
   "cell_type": "markdown",
   "metadata": {},
   "source": [
    "### Segment\n",
    "\n",
    "Next, we perform segmentation of regions in the image. First, the image is separated in noise regions and tissue regions by thresholding the smoothed image. Then, foreground (signal-of-interest) is separated from background in the tissue region.\n"
   ]
  },
  {
   "cell_type": "code",
   "execution_count": null,
   "metadata": {},
   "outputs": [],
   "source": [
    "equaliz3r.segment()\n"
   ]
  },
  {
   "cell_type": "code",
   "execution_count": null,
   "metadata": {},
   "outputs": [],
   "source": [
    "images = ['data', 'smooth']\n",
    "labels = ['noise_mask', 'tissue_mask']\n",
    "\n",
    "equaliz3r.view(filepath, images, labels)\n"
   ]
  },
  {
   "cell_type": "markdown",
   "metadata": {},
   "source": [
    "#### noise / tissue region thresholds\n",
    "\n",
    "Thresholds applied to the smoothed image can be set by \n",
    "\n",
    "1. manual specification for each file (via attribute or yml), where `key` is the filename without the extension\n",
    "\n",
    "    `equaliz3r.thresholds[key] = [1000, 2000]`\n",
    "\n",
    "\n",
    "2. global specification for all files (via attribute or yml)\n",
    "\n",
    "    `equaliz3r.threshold_noise = 1000`\n",
    "    \n",
    "    `equaliz3r.threshold_tissue = 2000` \n",
    "\n",
    "\n",
    "3. calculation of the otsu threshold, after which the two thresholds are computed via\n",
    "\n",
    "    threshold_noise: `min(data) + otsu * otsu_factor_noise`\n",
    "\n",
    "    threshold_tissue: `otsu * otsu_factor_tissue`\n",
    "\n",
    "NOTE: The default segmentation procedure uses the otsu method to calculate the thresholds. If either `equaliz3r.threshold_noise` or `equaliz3r.threshold_tisue` is specified, these thresholds are used instead. If `equaliz3r.thresholds` is specified for a file it will be used for that particular file.\n"
   ]
  },
  {
   "cell_type": "markdown",
   "metadata": {},
   "source": [
    "The next cells demonstrate changing these parameters. We define a convenience function to reset the thresholds; rerun the segmentation and visualize."
   ]
  },
  {
   "cell_type": "code",
   "execution_count": null,
   "metadata": {},
   "outputs": [],
   "source": [
    "outputs = equaliz3r.outputpaths['segment']\n",
    "\n",
    "def run_segment(equaliz3r, suffix, labels=['noise_mask', 'tissue_mask']):\n",
    "\n",
    "    # save in new dataset\n",
    "    for ids in ['noise_mask', 'tissue_mask', 'segmentation']:\n",
    "        equaliz3r.outputpaths['segment'][ids] = outputs[ids].replace(ids, ids + suffix)\n",
    "\n",
    "    # run\n",
    "    equaliz3r.segment()\n",
    "\n",
    "    # plot comparison\n",
    "    images = ['data']\n",
    "    labels += [f'{ids}{suffix}' for ids in labels]\n",
    "    equaliz3r.view(filepath, images, labels)\n"
   ]
  },
  {
   "cell_type": "markdown",
   "metadata": {},
   "source": [
    "##### otsu thresholding (automatic)\n"
   ]
  },
  {
   "cell_type": "code",
   "execution_count": null,
   "metadata": {},
   "outputs": [],
   "source": [
    "equaliz3r.thresholds = {}\n",
    "equaliz3r.threshold_noise, equaliz3r.threshold_tissue = 0, 0\n",
    "\n",
    "equaliz3r.otsu_factor_noise = 0.3\n",
    "equaliz3r.otsu_factor_tissue = 1.2\n",
    "\n",
    "run_segment(equaliz3r, '_otsu')\n"
   ]
  },
  {
   "cell_type": "markdown",
   "metadata": {},
   "source": [
    "##### global thresholding"
   ]
  },
  {
   "cell_type": "code",
   "execution_count": null,
   "metadata": {},
   "outputs": [],
   "source": [
    "equaliz3r.thresholds = {}\n",
    "equaliz3r.threshold_noise, equaliz3r.threshold_tissue = 0, 0\n",
    "\n",
    "equaliz3r.threshold_noise = 0\n",
    "equaliz3r.threshold_tissue = 200\n",
    "\n",
    "run_segment(equaliz3r, '_global')\n"
   ]
  },
  {
   "cell_type": "markdown",
   "metadata": {},
   "source": [
    "##### individual thresholding"
   ]
  },
  {
   "cell_type": "code",
   "execution_count": null,
   "metadata": {},
   "outputs": [],
   "source": [
    "equaliz3r.thresholds = {}\n",
    "equaliz3r.threshold_noise, equaliz3r.threshold_tissue = 0, 0\n",
    "\n",
    "some_new_thresholds = {\n",
    "    'MAP2_ck488_sec_2_1': [1000, 6000],\n",
    "    'MAP2_ck488_sec_2_2': [3000, 7000],\n",
    "    'MAP2_ck488_sec_2_3': [1000, 6000],\n",
    "    'MAP2_ck488_sec_4_1': [2000, 5000],\n",
    "    'MAP2_ck488_sec_4_2': [1000, 6000],\n",
    "    'MAP2_ck488_sec_4_3': [2000, 5000],\n",
    "}\n",
    "for k, v in some_new_thresholds.items():\n",
    "    equaliz3r.thresholds[k] = v\n",
    "\n",
    "run_segment(equaliz3r, '_individual')\n"
   ]
  },
  {
   "cell_type": "code",
   "execution_count": null,
   "metadata": {},
   "outputs": [],
   "source": []
  },
  {
   "cell_type": "markdown",
   "metadata": {},
   "source": [
    "#### foreground / background separation\n",
    "\n",
    "The segmentation also separates the tissue region into forground and background for quantification of the signal-of-interest. The associated parameters are:\n",
    "\n",
    "  `equaliz3r.segment_quantile` The intensity quantile of the tissue region at which to make the split.\n",
    "\n",
    "  `equaliz3r.segment_min_size` The minimal amount of connected pixels, which will discard isolated noisy high-intensity pixels\n"
   ]
  },
  {
   "cell_type": "markdown",
   "metadata": {},
   "source": [
    "First, visualize the original default segmentation:"
   ]
  },
  {
   "cell_type": "code",
   "execution_count": null,
   "metadata": {},
   "outputs": [],
   "source": [
    "# plot comparison\n",
    "images = ['data']\n",
    "labels = ['segmentation']\n",
    "equaliz3r.view(filepath, images, labels)\n",
    "\n",
    "f'quantile: {equaliz3r.segment_quantile}'\n",
    "f'patch size: {equaliz3r.segment_min_size}'\n"
   ]
  },
  {
   "cell_type": "code",
   "execution_count": null,
   "metadata": {},
   "outputs": [],
   "source": [
    "equaliz3r.thresholds = {}\n",
    "equaliz3r.threshold_noise, equaliz3r.threshold_tissue = 0, 0\n",
    "\n",
    "equaliz3r.segment_quantile = 0.90\n",
    "equaliz3r.segment_min_size = 7\n",
    "\n",
    "run_segment(equaliz3r, '_fg_bg', labels=['segmentation'])\n"
   ]
  },
  {
   "cell_type": "markdown",
   "metadata": {},
   "source": [
    "The lowered `equaliz3r.segment_quantile` setting included more pixels in the forground, while the increased `equaliz3r.segment_min_size` retained bigger patches."
   ]
  },
  {
   "cell_type": "code",
   "execution_count": null,
   "metadata": {},
   "outputs": [],
   "source": []
  },
  {
   "cell_type": "markdown",
   "metadata": {},
   "source": [
    "### Metrics"
   ]
  },
  {
   "cell_type": "markdown",
   "metadata": {},
   "source": [
    "To quantify the signal-of-interest in the image, there is a choice between a small number of methods and metrics. \n",
    "\n",
    "Metrics:\n",
    "  - *foreground*: median value of the foreground tissue\n",
    "  - *background*: median value of the background tissue\n",
    "  - *signal-to-noise*: `SNR = foreground / SD(noise)`\n",
    "  - *contrast*: `C = background / foreground`\n",
    "  - *contrast-to-noise*: `CNR = (foreground - background) / SD(noise)`\n",
    "\n",
    "Methods: `equaliz3r.methods = ['seg', 'q_base', 'q_clip', 'q_mask']`\n",
    "- *seg*: median values of the foreground and the background pixels in the tissue mask\n",
    "- *q_base*: quantiles of the image pixels\n",
    "- *q_clip*: quantiles of the image pixels with clipping values excluded\n",
    "- *q_mask*: quantiles of the image pixels in the tissue mask with clipping values excluded\n",
    "\n",
    "In the 'quantile'-methods, foreground and background quantiles are specified through: `equaliz3r.quantiles = [0.50, 0.99]`\n",
    "\n",
    "The prefered method, however, is to use the segmentation.\n",
    "\n",
    "\n"
   ]
  },
  {
   "cell_type": "code",
   "execution_count": null,
   "metadata": {},
   "outputs": [],
   "source": [
    "equaliz3r.methods = ['seg', 'q_base', 'q_clip', 'q_mask']\n",
    "equaliz3r.quantiles = [0.50, 0.9]\n"
   ]
  },
  {
   "cell_type": "code",
   "execution_count": null,
   "metadata": {},
   "outputs": [],
   "source": [
    "equaliz3r.metrics()\n",
    "equaliz3r.postprocess()\n",
    "equaliz3r.df\n"
   ]
  },
  {
   "cell_type": "code",
   "execution_count": null,
   "metadata": {},
   "outputs": [],
   "source": []
  }
 ],
 "metadata": {
  "kernelspec": {
   "display_name": "stapl3d",
   "language": "python",
   "name": "stapl3d"
  },
  "language_info": {
   "codemirror_mode": {
    "name": "ipython",
    "version": 3
   },
   "file_extension": ".py",
   "mimetype": "text/x-python",
   "name": "python",
   "nbconvert_exporter": "python",
   "pygments_lexer": "ipython3",
   "version": "3.9.13"
  },
  "varInspector": {
   "cols": {
    "lenName": 16,
    "lenType": 16,
    "lenVar": 40
   },
   "kernels_config": {
    "python": {
     "delete_cmd_postfix": "",
     "delete_cmd_prefix": "del ",
     "library": "var_list.py",
     "varRefreshCmd": "print(var_dic_list())"
    },
    "r": {
     "delete_cmd_postfix": ") ",
     "delete_cmd_prefix": "rm(",
     "library": "var_list.r",
     "varRefreshCmd": "cat(var_dic_list()) "
    }
   },
   "types_to_exclude": [
    "module",
    "function",
    "builtin_function_or_method",
    "instance",
    "_Feature"
   ],
   "window_display": false
  }
 },
 "nbformat": 4,
 "nbformat_minor": 4
}
