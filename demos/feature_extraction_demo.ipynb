{
 "cells": [
  {
   "cell_type": "markdown",
   "metadata": {},
   "source": [
    "# STAPL-3D feature extraction demo\n",
    "\n",
    "This notebook demonstrates the core components of the STAPL-3D feature extraction module.\n",
    "\n",
    "If you did not follow the STAPL-3D README: please find STAPL-3D and the installation instructions [here](https://github.com/RiosGroup/STAPL3D) before doing this demo.\n"
   ]
  },
  {
   "cell_type": "markdown",
   "metadata": {},
   "source": [
    "First, define where you have put the data. Please change *datadir* to point to the *HFK16w* directory that you have unzipped."
   ]
  },
  {
   "cell_type": "code",
   "execution_count": null,
   "metadata": {},
   "outputs": [],
   "source": [
    "import os\n",
    "\n",
    "datadir = './HFK16w'\n",
    "dataset = 'HFK16w'\n",
    "filestem = os.path.join(datadir, dataset)\n"
   ]
  },
  {
   "cell_type": "markdown",
   "metadata": {},
   "source": [
    "Here we define the blocksize, blockmargin and the image dimensions."
   ]
  },
  {
   "cell_type": "code",
   "execution_count": null,
   "metadata": {},
   "outputs": [],
   "source": [
    "from stapl3d import Image\n",
    "from glob import glob\n",
    "\n",
    "n_proc = 16\n",
    "\n",
    "bs = 176  # blocksize\n",
    "bm = 64  # blockmargin\n",
    "\n",
    "ipf = ''\n",
    "blockdir = os.path.join(datadir, 'blocks')\n",
    "filelist = glob(os.path.join(blockdir, '{}_*{}.h5'.format(dataset, ipf)))\n",
    "filelist.sort()\n",
    "\n",
    "image_in = '{}_bfc_block.ims'.format(filestem)\n",
    "im = Image(image_in)\n",
    "im.load(load_data=False)\n",
    "dims = im.dims\n",
    "im.close()\n"
   ]
  },
  {
   "cell_type": "code",
   "execution_count": null,
   "metadata": {},
   "outputs": [],
   "source": []
  },
  {
   "cell_type": "markdown",
   "metadata": {},
   "source": [
    "The STAPL-3D feature extraction module offers fast extraction of features from large amounts of data. We create a feature table for each datablock using parallel processing, then combine these feature tables while filtering out doubles of the segments that are represented in multiple datablocks."
   ]
  },
  {
   "cell_type": "code",
   "execution_count": null,
   "metadata": {},
   "outputs": [],
   "source": [
    "segs = [\n",
    "    'segm/labels_memb_del_relabeled_fix_full', \n",
    "    'segm/labels_memb_del_relabeled_fix_memb',\n",
    "    'segm/labels_memb_del_relabeled_fix_nucl',\n",
    "]\n",
    "\n",
    "featdir = os.path.join(datadir, 'profiling', 'features')\n",
    "os.makedirs(featdir, exist_ok=True)\n",
    "\n",
    "#seg_paths = [os.path.join(datadir, '{}.h5/{}'.format(dataset, seg)) for seg in segs]\n",
    "seg_names = ['full', 'memb', 'nucl']\n",
    "data_paths = [os.path.join(datadir, '{}_bfc_block.ims'.format(dataset))]\n",
    "data_names = ['ch{:02d}'.format(ch) for ch in range(8)]\n",
    "aux_data_path = []\n",
    "downsample_factors = [1, 1, 1],\n",
    "outputstem = os.path.join(featdir, dataset)\n",
    "blocksize = [dims[0], bs, bs, dims[3], dims[4]]\n",
    "blockmargin = [0, bm, bm, 0, 0]\n",
    "blockrange = []\n",
    "channels = []\n",
    "filter_borderlabels = True\n",
    "min_labelsize = 50\n",
    "split_features = True\n",
    "fset_morph = 'minimal'\n",
    "fset_intens = 'minimal'\n",
    "fset_addit = []\n"
   ]
  },
  {
   "cell_type": "code",
   "execution_count": null,
   "metadata": {},
   "outputs": [],
   "source": [
    "from stapl3d.segmentation import features\n",
    "\n",
    "parameter_file = '{}.yml'.format(filestem)\n",
    "seg_names = ['full', 'memb', 'nucl']\n",
    "seg_paths = ['{}.h5/segm/labels_memb_del_relabeled_fix_{}'.format(filestem, ids) for ids in seg_names]\n",
    "features.estimate(image_in, parameter_file, seg_paths=seg_paths)\n"
   ]
  },
  {
   "cell_type": "markdown",
   "metadata": {},
   "source": [
    "This generates 3 csv files for each datablock, in which the features for the full segment, and the nuclear and membranal parts are written to files in *HFK16w/profiling/features*. Finally, we merge all csv's together, taking the intensity features from the subsegments and retain the most interesting morphological and spatial features. We write then to a single outputfile as *HFK16w/profiling/features/HFK16w_features.csv*.\n",
    "\n",
    "`features.postproc(image_in, parameter_file, seg_paths=seg_paths)`"
   ]
  },
  {
   "cell_type": "code",
   "execution_count": null,
   "metadata": {},
   "outputs": [],
   "source": [
    "from stapl3d.segmentation.features import postprocess_features\n",
    "\n",
    "postprocess_features(\n",
    "    seg_paths,\n",
    "    blocksize,\n",
    "    blockmargin,\n",
    "    blockrange=[],\n",
    "    csv_dir=blockdir,\n",
    "    csv_stem='{}_bfc_block'.format(dataset),\n",
    "    feat_pf='_features',\n",
    "    segm_pfs=['full', 'memb', 'nucl'],\n",
    "    min_size_nucl=min_labelsize,\n",
    "    save_border_labels=True,\n",
    "    split_features=True,\n",
    "    fset_morph=fset_morph,\n",
    "    fset_intens=fset_intens,\n",
    "    outputdir=datadir,\n",
    ")\n"
   ]
  },
  {
   "cell_type": "code",
   "execution_count": null,
   "metadata": {},
   "outputs": [],
   "source": []
  }
 ],
 "metadata": {
  "kernelspec": {
   "display_name": "stapl3d",
   "language": "python",
   "name": "stapl3d"
  },
  "language_info": {
   "codemirror_mode": {
    "name": "ipython",
    "version": 3
   },
   "file_extension": ".py",
   "mimetype": "text/x-python",
   "name": "python",
   "nbconvert_exporter": "python",
   "pygments_lexer": "ipython3",
   "version": "3.8.3"
  },
  "varInspector": {
   "cols": {
    "lenName": 16,
    "lenType": 16,
    "lenVar": 40
   },
   "kernels_config": {
    "python": {
     "delete_cmd_postfix": "",
     "delete_cmd_prefix": "del ",
     "library": "var_list.py",
     "varRefreshCmd": "print(var_dic_list())"
    },
    "r": {
     "delete_cmd_postfix": ") ",
     "delete_cmd_prefix": "rm(",
     "library": "var_list.r",
     "varRefreshCmd": "cat(var_dic_list()) "
    }
   },
   "types_to_exclude": [
    "module",
    "function",
    "builtin_function_or_method",
    "instance",
    "_Feature"
   ],
   "window_display": false
  }
 },
 "nbformat": 4,
 "nbformat_minor": 4
}
