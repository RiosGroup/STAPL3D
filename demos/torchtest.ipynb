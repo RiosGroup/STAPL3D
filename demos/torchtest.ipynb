{
 "cells": [
  {
   "cell_type": "code",
   "execution_count": null,
   "metadata": {},
   "outputs": [],
   "source": []
  },
  {
   "cell_type": "code",
   "execution_count": null,
   "metadata": {},
   "outputs": [],
   "source": [
    "# Show all output\n",
    "from IPython.core.interactiveshell import InteractiveShell\n",
    "InteractiveShell.ast_node_interactivity = \"all\"\n",
    "\n",
    "# Imports.\n",
    "import os\n",
    "\n",
    "projectdir = '/Users/michielkleinnijenhuis/PMCdata/1.projects/FGS'\n",
    "dataset = 'FGS_RL1_Exp002'\n",
    "\n",
    "datadir = os.path.join(projectdir, dataset)\n",
    "\n",
    "os.makedirs(datadir, exist_ok=True)\n",
    "os.chdir(datadir)\n",
    "f'working in directory: {os.path.abspath(\".\")}'\n",
    "parameter_file = f'{dataset}.yml'\n",
    "image_in = os.path.join(datadir, 'blocks')\n",
    "image_in = f'{datadir}/' + '{f}.czi'\n"
   ]
  },
  {
   "cell_type": "code",
   "execution_count": null,
   "metadata": {},
   "outputs": [],
   "source": [
    "# NOTE: lowres => get info from blockfile, not czi\n",
    "blockdir = os.path.join(datadir, 'blocks')\n",
    "image_in = f'{blockdir}/' + '{f}.h5'\n",
    "\n",
    "from stapl3d.segmentation import segment\n",
    "segment3r = segment.Segment3r(image_in, parameter_file, prefix=dataset, step_id='segmentation_norm', datadir=datadir)\n",
    "segment3r.estimate()\n"
   ]
  },
  {
   "cell_type": "code",
   "execution_count": null,
   "metadata": {},
   "outputs": [],
   "source": [
    "# NOTE: lowres => get info from blockfile, not czi\n",
    "blockdir = os.path.join(datadir, 'blocks')\n",
    "image_in = f'{blockdir}/' + '{f}.h5'\n",
    "\n",
    "from stapl3d.deep_learning import unet\n",
    "torch3r = unet.Torch3r(image_in, parameter_file)\n",
    "torch3r.train()\n"
   ]
  },
  {
   "cell_type": "code",
   "execution_count": null,
   "metadata": {},
   "outputs": [],
   "source": [
    "torch3r.view([5], images=['image_lr', 'image_lr_norm', 'memb/prob'], labels=['mask_lr', 'memb/pred'])\n"
   ]
  },
  {
   "cell_type": "code",
   "execution_count": null,
   "metadata": {},
   "outputs": [],
   "source": []
  },
  {
   "cell_type": "code",
   "execution_count": null,
   "metadata": {},
   "outputs": [],
   "source": []
  },
  {
   "cell_type": "code",
   "execution_count": null,
   "metadata": {},
   "outputs": [],
   "source": []
  },
  {
   "attachments": {},
   "cell_type": "markdown",
   "metadata": {},
   "source": [
    "```\n",
    "# ssh -i ~/.ssh/id_rsa_hpc -X mkleinnijenhuis@hpcs03.op.umcutrecht.nl\n",
    "# srun -c 1 --time 04:00:00 --mem 100G --pty bash\n",
    "# srun -c 4 --partition=gpu --gpus-per-node=RTX6000:1 --time 04:00:00 --mem 10G --pty bash\n",
    "# srun --partition=gpu --time 01:00:00 --mem 10G --pty bash\n",
    "\n",
    "source \"${HOME}/.stapl3d.ini\" && load_stapl3d_config\n",
    "\n",
    "projectdir='/hpc/pmc_rios/mkleinnijenhuis/1.projects/FGS'\n",
    "dataset='FGS_RL1_Exp002'\n",
    "load_dataset \"${projectdir}\" \"${dataset}\"\n",
    "\n",
    "parfile=\"${dataset}.yml\"\n",
    "#[[ -f \"${parfile}\" ]] || init_dataset\n",
    "load_parameters \"${dataset}\" -v \"${parfile}\"\n",
    "\n",
    "\n",
    "unset blockstems\n",
    "blockstems=()\n",
    "for filename in `ls $datadir/blocks`; do\n",
    "    dstem=\"${filename%.*}\"\n",
    "    blockstems+=( \"$dstem\" )\n",
    "done\n",
    "echo \"${#blockstems[@]}\"\n",
    "\n",
    "dataset__alias='FGS002'\n",
    "image_in='blocks/{f}.h5'\n",
    "jid=h\n",
    "submit $( generate_script segmentation estimate) $jid\n",
    "\n",
    "# NOTE: in go_<>.py\n",
    "segment3r = segment.Segment3r('blocks/{f}.h5', \"FGS_RL1_Exp002.yml\", datadir='/hpc/pmc_rios/mkleinnijenhuis/1.projects/FGS/FGS_RL1_Exp002')\n",
    "# NOTE: in go_<>.sh\n",
    "#SBATCH --array=1-81:1\n",
    "```\n"
   ]
  },
  {
   "cell_type": "code",
   "execution_count": null,
   "metadata": {},
   "outputs": [],
   "source": [
    "function get_py_torch {\n",
    "    echo \"from stapl3d import stapl3d_torch\"\n",
    "    echo \"torch3r = stapl3d_torch.Torch3r(image_in, parameter_file)\"\n",
    "}\n",
    "function get_py_torch_train {\n",
    "    get_py_header\n",
    "    get_py_torch\n",
    "    echo \"torch3r.${step}()\"\n",
    "}\n",
    "function get_cmd_torch_train { get_cmd \"\" ; }\n"
   ]
  },
  {
   "cell_type": "code",
   "execution_count": null,
   "metadata": {},
   "outputs": [],
   "source": [
    "\n",
    "\n",
    "\n",
    "dataset__alias='FGS002'\n",
    "image_in='blocks/{f}.h5'\n",
    "jid=\n",
    "submit $( generate_script torch train) $jid\n"
   ]
  },
  {
   "cell_type": "code",
   "execution_count": null,
   "metadata": {},
   "outputs": [],
   "source": [
    "#!/usr/bin/env bash\n",
    "\n",
    "#SBATCH --job-name=go_FGS002_torch_train\n",
    "#SBATCH --partition=gpu\n",
    "#SBATCH --gpus-per-node=RTX6000:1\n",
    "#SBATCH --cpus-per-task=4\n",
    "#SBATCH --mem=10G\n",
    "#SBATCH --time=01:00:00\n",
    "#SBATCH --nodes=1\n",
    "#SBATCH --ntasks-per-node=1\n",
    "#SBATCH --array=1-1:1\n",
    "#SBATCH --output=/hpc/pmc_rios/mkleinnijenhuis/1.projects/FGS/FGS_RL1_Exp002/go_FGS002_torch_train.sh.o%A.%a\n",
    "#SBATCH --error=/hpc/pmc_rios/mkleinnijenhuis/1.projects/FGS/FGS_RL1_Exp002/go_FGS002_torch_train.sh.e%A.%a\n",
    "\n",
    "TASK_ID=${SLURM_ARRAY_TASK_ID}\n",
    "idx=$((TASK_ID - 1))\n",
    "\n",
    "\n",
    "source /hpc/local/CentOS7/pmc_rios/projects/STAPL3D/stapl3d/pipelines/functions.sh\n",
    "load_dataset /hpc/pmc_rios/mkleinnijenhuis/1.projects/FGS FGS_RL1_Exp002\n",
    "load_parameters FGS_RL1_Exp002 -v\n",
    "\n",
    "source /hpc/local/CentOS7/pmc_rios/anaconda3/etc/profile.d/conda.sh\n",
    "conda activate stapl3d_torch\n",
    "\n",
    "python /hpc/pmc_rios/mkleinnijenhuis/1.projects/FGS/FGS_RL1_Exp002/go_FGS002_torch_train.py blocks/{f}.h5 FGS_RL1_Exp002.yml ${idx}\n",
    "conda deactivate\n"
   ]
  },
  {
   "cell_type": "code",
   "execution_count": null,
   "metadata": {},
   "outputs": [],
   "source": []
  },
  {
   "cell_type": "code",
   "execution_count": null,
   "metadata": {},
   "outputs": [],
   "source": []
  },
  {
   "cell_type": "code",
   "execution_count": null,
   "metadata": {},
   "outputs": [],
   "source": [
    "from stapl3d.segmentation import segment\n",
    "datadir = '/hpc/pmc_rios/mkleinnijenhuis/1.projects/FGS/FGS_RL1_Exp002'\n",
    "image_in = 'blocks/{f}.h5'\n",
    "parameter_file = 'FGS_RL1_Exp002.yml'\n",
    "segment3r = segment.Segment3r(image_in, parameter_file, datadir=datadir)\n",
    "segment3r.estimate()\n"
   ]
  },
  {
   "cell_type": "code",
   "execution_count": null,
   "metadata": {},
   "outputs": [],
   "source": [
    "#!/usr/bin/env python\n",
    "\n",
    "import sys\n",
    "image_in = sys.argv[1]\n",
    "parameter_file = sys.argv[2]\n",
    "if len(sys.argv) > 3:\n",
    "    idx = int(sys.argv[3])\n",
    "\n",
    "from stapl3d.deep_learning import unet\n",
    "datadir = '/hpc/pmc_rios/mkleinnijenhuis/1.projects/FGS/FGS_RL1_Exp002'\n",
    "image_in = 'blocks/{f}.h5'\n",
    "parameter_file = 'FGS_RL1_Exp002.yml'\n",
    "torch3r = unet.Torch3r(image_in, parameter_file, datadir=datadir)\n",
    "torch3r.train()\n"
   ]
  },
  {
   "cell_type": "code",
   "execution_count": null,
   "metadata": {},
   "outputs": [],
   "source": [
    "from stapl3d.segmentation import segment\n",
    "segment3r = segment.Segment3r('blocks/{f}.h5', \"FGS_RL1_Exp002.yml\", datadir='/hpc/pmc_rios/mkleinnijenhuis/1.projects/FGS/FGS_RL1_Exp002')\n",
    "# 0 is broken\n",
    "for idx in range(2, 81):\n",
    "    segment3r.estimate(blocks=[idx])\n",
    "# 6 is broken\n",
    "for idx in range(7, 81):\n",
    "    segment3r.estimate(blocks=[idx])\n"
   ]
  },
  {
   "cell_type": "code",
   "execution_count": null,
   "metadata": {},
   "outputs": [],
   "source": [
    "from stapl3d import stapl3d_torch\n",
    "torch3r = stapl3d_torch.Torch3r('blocks/{f}.h5', \"FGS_RL1_Exp002.yml\", datadir='/hpc/pmc_rios/mkleinnijenhuis/1.projects/FGS/FGS_RL1_Exp002')\n",
    "torch3r.train()\n"
   ]
  },
  {
   "cell_type": "code",
   "execution_count": null,
   "metadata": {},
   "outputs": [],
   "source": []
  },
  {
   "cell_type": "code",
   "execution_count": null,
   "metadata": {},
   "outputs": [],
   "source": [
    "import tracemalloc\n",
    "tracemalloc.start()\n",
    "\n",
    "from stapl3d import stapl3d_torch\n",
    "torch3r = stapl3d_torch.Torch3r('blocks/{f}.h5', \"FGS_RL1_Exp002.yml\", datadir='/hpc/pmc_rios/mkleinnijenhuis/1.projects/FGS/FGS_RL1_Exp002')\n",
    "torch3r.train()\n",
    "\n",
    "# show how much RAM the above code allocated and the peak usage\n",
    "current, peak =  tracemalloc.get_traced_memory()\n",
    "print(f\"{current/1024**2:0.0f}, {peak/1024**2:0.0f}\")\n",
    "tracemalloc.stop()\n"
   ]
  },
  {
   "cell_type": "code",
   "execution_count": null,
   "metadata": {},
   "outputs": [],
   "source": [
    "for filename in `ls *.tar.bz2`; do\n",
    "    tar -xf $filename\n",
    "done\n"
   ]
  },
  {
   "cell_type": "code",
   "execution_count": null,
   "metadata": {},
   "outputs": [],
   "source": [
    "import numpy as np\n",
    "shape = (4, 3, 265, 265)\n",
    "c = np.zeros(shape)\n",
    "b = np.reshape(np.moveaxis(c, 0, 3), list(shape[1:3]) + [-1])\n",
    "b.shape\n"
   ]
  },
  {
   "cell_type": "code",
   "execution_count": null,
   "metadata": {},
   "outputs": [],
   "source": []
  },
  {
   "cell_type": "code",
   "execution_count": null,
   "metadata": {},
   "outputs": [],
   "source": [
    "conda activate stapl3d_torch\n",
    "tensorboard --port 6006 --host 0.0.0.0 --logdir /hpc/pmc_rios/mkleinnijenhuis/1.projects/FGS/FGS_RL1_Exp002/logs/tb &\n",
    "alias sg='squeue | grep gpu'\n",
    "\n",
    "ssh -L6006:hpcs03.compute.hpc:6006 -X mkleinnijenhuis@hpcs03.op.umcutrecht.nl\n",
    "localhost:6006\n"
   ]
  },
  {
   "cell_type": "code",
   "execution_count": null,
   "metadata": {},
   "outputs": [],
   "source": [
    "(stapl3d_torch) [mkleinnijenhuis@n0100 FGS_RL1_Exp002]$ python -m torch.utils.collect_env\n",
    "Collecting environment information...\n",
    "PyTorch version: 1.12.1\n",
    "Is debug build: False\n",
    "CUDA used to build PyTorch: Could not collect\n",
    "ROCM used to build PyTorch: N/A\n",
    "\n",
    "OS: CentOS Linux release 7.9.2009 (Core) (x86_64)\n",
    "GCC version: (GCC) 4.8.5 20150623 (Red Hat 4.8.5-44)\n",
    "Clang version: Could not collect\n",
    "CMake version: version 2.8.12.2\n",
    "Libc version: glibc-2.17\n",
    "\n",
    "Python version: 3.9.13 | packaged by conda-forge | (main, May 27 2022, 16:56:21)  [GCC 10.3.0] (64-bit runtime)\n",
    "Python platform: Linux-3.10.0-1160.25.1.el7.x86_64-x86_64-with-glibc2.17\n",
    "Is CUDA available: False\n",
    "CUDA runtime version: Could not collect\n",
    "GPU models and configuration: GPU 0: Quadro RTX 6000\n",
    "Nvidia driver version: 525.60.13\n",
    "cuDNN version: Probably one of the following:\n",
    "/usr/lib64/libcudnn.so.8.3.3\n",
    "/usr/lib64/libcudnn_adv_infer.so.8.3.3\n",
    "/usr/lib64/libcudnn_adv_train.so.8.3.3\n",
    "/usr/lib64/libcudnn_cnn_infer.so.8.3.3\n",
    "/usr/lib64/libcudnn_cnn_train.so.8.3.3\n",
    "/usr/lib64/libcudnn_ops_infer.so.8.3.3\n",
    "/usr/lib64/libcudnn_ops_train.so.8.3.3\n",
    "HIP runtime version: N/A\n",
    "MIOpen runtime version: N/A\n",
    "Is XNNPACK available: True\n",
    "\n",
    "Versions of relevant libraries:\n",
    "[pip3] numpy==1.21.0\n",
    "[pip3] numpydoc==1.5.0\n",
    "[pip3] torch==1.12.1\n",
    "[pip3] torchvision==0.13.0a0+8069656\n",
    "[conda] mkl                       2022.1.0           h84fe81f_915    conda-forge\n",
    "[conda] numpy                     1.21.0           py39hdbf815f_0    conda-forge\n",
    "[conda] numpydoc                  1.5.0              pyhd8ed1ab_0    conda-forge\n",
    "[conda] pytorch                   1.12.1          cpu_py39h3439074_1    conda-forge\n",
    "[conda] torchvision               0.13.0          cpu_py39hedfcc36_0    conda-forge\n"
   ]
  },
  {
   "cell_type": "code",
   "execution_count": null,
   "metadata": {},
   "outputs": [],
   "source": [
    "import torch\n",
    "index = torch.tensor([2])\n",
    "index\n",
    "index.cpu().numpy()\n"
   ]
  }
 ],
 "metadata": {
  "kernelspec": {
   "display_name": "Python 3.9.15 ('stapl3d_torch')",
   "language": "python",
   "name": "python3"
  },
  "language_info": {
   "codemirror_mode": {
    "name": "ipython",
    "version": 3
   },
   "file_extension": ".py",
   "mimetype": "text/x-python",
   "name": "python",
   "nbconvert_exporter": "python",
   "pygments_lexer": "ipython3",
   "version": "3.9.15 | packaged by conda-forge | (main, Nov 22 2022, 08:55:37) \n[Clang 14.0.6 ]"
  },
  "orig_nbformat": 4,
  "vscode": {
   "interpreter": {
    "hash": "2e5a46e4cd65217fb3bd0e51bb5235db6a2d518d09294d55d828f5ae524bdc2d"
   }
  }
 },
 "nbformat": 4,
 "nbformat_minor": 2
}
